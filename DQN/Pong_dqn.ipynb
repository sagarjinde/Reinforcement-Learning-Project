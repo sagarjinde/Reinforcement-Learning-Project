{
  "nbformat": 4,
  "nbformat_minor": 0,
  "metadata": {
    "colab": {
      "name": "Pong_dqn.ipynb",
      "provenance": [],
      "collapsed_sections": []
    },
    "kernelspec": {
      "name": "python3",
      "display_name": "Python 3"
    }
  },
  "cells": [
    {
      "cell_type": "code",
      "metadata": {
        "id": "J4gaKsGCtwaq",
        "colab_type": "code",
        "outputId": "a03691db-db73-4e50-fed1-0ab081afb722",
        "colab": {
          "base_uri": "https://localhost:8080/",
          "height": 717
        }
      },
      "source": [
        "!pip install gym\n",
        "!pip install gym[all]"
      ],
      "execution_count": 1,
      "outputs": [
        {
          "output_type": "stream",
          "text": [
            "Requirement already satisfied: gym in /usr/local/lib/python3.6/dist-packages (0.17.1)\n",
            "Requirement already satisfied: six in /usr/local/lib/python3.6/dist-packages (from gym) (1.12.0)\n",
            "Requirement already satisfied: numpy>=1.10.4 in /usr/local/lib/python3.6/dist-packages (from gym) (1.18.2)\n",
            "Requirement already satisfied: cloudpickle<1.4.0,>=1.2.0 in /usr/local/lib/python3.6/dist-packages (from gym) (1.3.0)\n",
            "Requirement already satisfied: pyglet<=1.5.0,>=1.4.0 in /usr/local/lib/python3.6/dist-packages (from gym) (1.5.0)\n",
            "Requirement already satisfied: scipy in /usr/local/lib/python3.6/dist-packages (from gym) (1.4.1)\n",
            "Requirement already satisfied: future in /usr/local/lib/python3.6/dist-packages (from pyglet<=1.5.0,>=1.4.0->gym) (0.16.0)\n",
            "Requirement already satisfied: gym[all] in /usr/local/lib/python3.6/dist-packages (0.17.1)\n",
            "Requirement already satisfied: scipy in /usr/local/lib/python3.6/dist-packages (from gym[all]) (1.4.1)\n",
            "Requirement already satisfied: six in /usr/local/lib/python3.6/dist-packages (from gym[all]) (1.12.0)\n",
            "Requirement already satisfied: pyglet<=1.5.0,>=1.4.0 in /usr/local/lib/python3.6/dist-packages (from gym[all]) (1.5.0)\n",
            "Requirement already satisfied: cloudpickle<1.4.0,>=1.2.0 in /usr/local/lib/python3.6/dist-packages (from gym[all]) (1.3.0)\n",
            "Requirement already satisfied: numpy>=1.10.4 in /usr/local/lib/python3.6/dist-packages (from gym[all]) (1.18.2)\n",
            "Collecting mujoco-py<2.0,>=1.50; extra == \"all\"\n",
            "\u001b[?25l  Downloading https://files.pythonhosted.org/packages/cf/8c/64e0630b3d450244feef0688d90eab2448631e40ba6bdbd90a70b84898e7/mujoco-py-1.50.1.68.tar.gz (120kB)\n",
            "\u001b[K     |████████████████████████████████| 122kB 2.8MB/s \n",
            "\u001b[?25hCollecting box2d-py~=2.3.5; extra == \"all\"\n",
            "\u001b[?25l  Downloading https://files.pythonhosted.org/packages/06/bd/6cdc3fd994b0649dcf5d9bad85bd9e26172308bbe9a421bfc6fdbf5081a6/box2d_py-2.3.8-cp36-cp36m-manylinux1_x86_64.whl (448kB)\n",
            "\u001b[K     |████████████████████████████████| 450kB 8.7MB/s \n",
            "\u001b[?25hRequirement already satisfied: imageio; extra == \"all\" in /usr/local/lib/python3.6/dist-packages (from gym[all]) (2.4.1)\n",
            "Requirement already satisfied: opencv-python; extra == \"all\" in /usr/local/lib/python3.6/dist-packages (from gym[all]) (4.1.2.30)\n",
            "Requirement already satisfied: atari-py~=0.2.0; extra == \"all\" in /usr/local/lib/python3.6/dist-packages (from gym[all]) (0.2.6)\n",
            "Requirement already satisfied: Pillow; extra == \"all\" in /usr/local/lib/python3.6/dist-packages (from gym[all]) (7.0.0)\n",
            "Requirement already satisfied: future in /usr/local/lib/python3.6/dist-packages (from pyglet<=1.5.0,>=1.4.0->gym[all]) (0.16.0)\n",
            "Collecting glfw>=1.4.0\n",
            "\u001b[?25l  Downloading https://files.pythonhosted.org/packages/98/0d/aff94f4258dd21556121802e0274a6b92bf5e925b37898abb961b8924025/glfw-1.11.0-py2.py27.py3.py30.py31.py32.py33.py34.py35.py36.py37.py38-none-manylinux2014_x86_64.whl (205kB)\n",
            "\u001b[K     |████████████████████████████████| 215kB 46.4MB/s \n",
            "\u001b[?25hRequirement already satisfied: Cython>=0.27.2 in /usr/local/lib/python3.6/dist-packages (from mujoco-py<2.0,>=1.50; extra == \"all\"->gym[all]) (0.29.16)\n",
            "Requirement already satisfied: cffi>=1.10 in /usr/local/lib/python3.6/dist-packages (from mujoco-py<2.0,>=1.50; extra == \"all\"->gym[all]) (1.14.0)\n",
            "Collecting lockfile>=0.12.2\n",
            "  Downloading https://files.pythonhosted.org/packages/c8/22/9460e311f340cb62d26a38c419b1381b8593b0bb6b5d1f056938b086d362/lockfile-0.12.2-py2.py3-none-any.whl\n",
            "Requirement already satisfied: pycparser in /usr/local/lib/python3.6/dist-packages (from cffi>=1.10->mujoco-py<2.0,>=1.50; extra == \"all\"->gym[all]) (2.20)\n",
            "Building wheels for collected packages: mujoco-py\n",
            "  Building wheel for mujoco-py (setup.py) ... \u001b[?25lerror\n",
            "\u001b[31m  ERROR: Failed building wheel for mujoco-py\u001b[0m\n",
            "\u001b[?25h  Running setup.py clean for mujoco-py\n",
            "Failed to build mujoco-py\n",
            "Installing collected packages: glfw, lockfile, mujoco-py, box2d-py\n",
            "    Running setup.py install for mujoco-py ... \u001b[?25l\u001b[?25herror\n",
            "\u001b[31mERROR: Command errored out with exit status 1: /usr/bin/python3 -u -c 'import sys, setuptools, tokenize; sys.argv[0] = '\"'\"'/tmp/pip-install-5rlzla07/mujoco-py/setup.py'\"'\"'; __file__='\"'\"'/tmp/pip-install-5rlzla07/mujoco-py/setup.py'\"'\"';f=getattr(tokenize, '\"'\"'open'\"'\"', open)(__file__);code=f.read().replace('\"'\"'\\r\\n'\"'\"', '\"'\"'\\n'\"'\"');f.close();exec(compile(code, __file__, '\"'\"'exec'\"'\"'))' install --record /tmp/pip-record-9bzjoufk/install-record.txt --single-version-externally-managed --compile Check the logs for full command output.\u001b[0m\n"
          ],
          "name": "stdout"
        }
      ]
    },
    {
      "cell_type": "code",
      "metadata": {
        "id": "ZZD7u5MXfGsc",
        "colab_type": "code",
        "outputId": "152e71c5-68eb-47fe-8e0c-329e36bb4f3f",
        "colab": {
          "base_uri": "https://localhost:8080/",
          "height": 34
        }
      },
      "source": [
        "import tensorflow as tf\n",
        "import tensorflow.keras as keras\n",
        "import tensorflow.keras.backend as K\n",
        "from keras.layers import  Dense, Activation, Input\n",
        "from keras.models import Model, load_model\n",
        "from keras.optimizers import Adam\n",
        "from collections import deque\n",
        "import matplotlib.pyplot as plt\n",
        "import numpy as np\n",
        "import random \n",
        "import gym"
      ],
      "execution_count": 2,
      "outputs": [
        {
          "output_type": "stream",
          "text": [
            "Using TensorFlow backend.\n"
          ],
          "name": "stderr"
        }
      ]
    },
    {
      "cell_type": "markdown",
      "metadata": {
        "id": "JECp_twe1Fzg",
        "colab_type": "text"
      },
      "source": [
        "2)a) State and Action space"
      ]
    },
    {
      "cell_type": "code",
      "metadata": {
        "id": "7mOY2TPBv2Ou",
        "colab_type": "code",
        "colab": {
          "base_uri": "https://localhost:8080/",
          "height": 85
        },
        "outputId": "6c9fc951-e8ae-4e8b-8b83-a98ba297f53f"
      },
      "source": [
        "env = gym.make('Pong-v0')\n",
        "print('action space')\n",
        "print(env.action_space)\n",
        "print('observation space')\n",
        "print(env.observation_space)"
      ],
      "execution_count": 3,
      "outputs": [
        {
          "output_type": "stream",
          "text": [
            "action space\n",
            "Discrete(6)\n",
            "observation space\n",
            "Box(210, 160, 3)\n"
          ],
          "name": "stdout"
        }
      ]
    },
    {
      "cell_type": "markdown",
      "metadata": {
        "id": "R8iY4n1i1K-H",
        "colab_type": "text"
      },
      "source": [
        "Random agent\n"
      ]
    },
    {
      "cell_type": "code",
      "metadata": {
        "id": "IvMPdFY3xwDE",
        "colab_type": "code",
        "colab": {
          "base_uri": "https://localhost:8080/",
          "height": 265
        },
        "outputId": "fb31d699-12a1-4764-a78f-489b7c8b182a"
      },
      "source": [
        "rand_scores = []\n",
        "for i_episode in range(100):\n",
        "    observation = env.reset()\n",
        "    score = 0\n",
        "    while True:\n",
        "        action = env.action_space.sample()\n",
        "        observation, reward, done, info = env.step(action)\n",
        "        score += reward\n",
        "        if done:\n",
        "            break\n",
        "    rand_scores.append(score)\n",
        "env.close()\n",
        "x_axis = [i for i in range(100)]\n",
        "plt.plot(x_axis, rand_scores)\n",
        "plt.show()"
      ],
      "execution_count": 4,
      "outputs": [
        {
          "output_type": "display_data",
          "data": {
            "image/png": "[encoded data removed]",
            "text/plain": [
              "<Figure size 432x288 with 1 Axes>"
            ]
          },
          "metadata": {
            "tags": [],
            "needs_background": "light"
          }
        }
      ]
    },
    {
      "cell_type": "markdown",
      "metadata": {
        "id": "_U58oE4R1XZO",
        "colab_type": "text"
      },
      "source": [
        "2)b)"
      ]
    },
    {
      "cell_type": "code",
      "metadata": {
        "id": "ercGdB5Wq72E",
        "colab_type": "code",
        "colab": {}
      },
      "source": [
        "#Preprocessing functions\n",
        "\n",
        "def prepro(I):\n",
        "  \"\"\" prepro 210x160x3 uint8 frame into 6400 (80x80) 1D float vector \"\"\"\n",
        "  I = I[35:195] # crop\n",
        "  I = I[::2,::2,0] # downsample by factor of 2\n",
        "  I[I == 144] = 0 # erase background (background type 1)\n",
        "  I[I == 109] = 0 # erase background (background type 2)\n",
        "  I[I != 0] = 1 # everything else (paddles, ball) just set to 1\n",
        "  return I.astype(np.float).ravel()\n",
        "\n",
        "def discount_rewards(r, gamma):\n",
        "  \"\"\" take 1D float array of rewards and compute discounted reward \"\"\"\n",
        "  r = np.array(r)\n",
        "  discounted_r = np.zeros_like(r)\n",
        "  running_add = 0\n",
        "  # we go from last reward to first one so we don't have to do exponentiations\n",
        "  for t in reversed(range(0, r.size)):\n",
        "    if r[t] != 0: running_add = 0 # if the game ended (in Pong), reset the reward sum\n",
        "    running_add = running_add * gamma + r[t] # the point here is to use Horner's method to compute those rewards efficiently\n",
        "    discounted_r[t] = running_add\n",
        "  discounted_r -= np.mean(discounted_r) #normalizing the result\n",
        "  discounted_r /= np.std(discounted_r) #idem using standar deviation\n",
        "  return discounted_r\n"
      ],
      "execution_count": 0,
      "outputs": []
    },
    {
      "cell_type": "markdown",
      "metadata": {
        "id": "2mx9cXylvFhE",
        "colab_type": "text"
      },
      "source": [
        "If you want to store weights on Google Drive, uncomment the following"
      ]
    },
    {
      "cell_type": "code",
      "metadata": {
        "id": "_6izEcFqwJSl",
        "colab_type": "code",
        "colab": {}
      },
      "source": [
        "# from google.colab import drive\n",
        "# drive.mount('/content/gdrive')"
      ],
      "execution_count": 0,
      "outputs": []
    },
    {
      "cell_type": "code",
      "metadata": {
        "id": "cb8V4hGw0XTN",
        "colab_type": "code",
        "colab": {}
      },
      "source": [
        "# %cd /content/gdrive/My\\ Drive/Pong-v0\n",
        "# !pwd"
      ],
      "execution_count": 0,
      "outputs": []
    },
    {
      "cell_type": "code",
      "metadata": {
        "id": "cOxAVCLUtems",
        "colab_type": "code",
        "colab": {}
      },
      "source": [
        "class ReplayBuffer():\n",
        "    def __init__(self, max_size):\n",
        "      self.max_size = max_size\n",
        "      self.mem = deque()\n",
        "      self.size = 0\n",
        "\n",
        "    def store_transition(self, transitions):\n",
        "      for transition in transitions:\n",
        "        if self.size < self.max_size:\n",
        "          self.mem.append(transition)\n",
        "          self.size += 1\n",
        "        else:\n",
        "          self.mem.popleft()\n",
        "          self.mem.append(transition)\n",
        "\n",
        "    def sample_buffer(self):\n",
        "      \n",
        "      batch = random.sample(self.mem, batch_size)\n",
        "      return batch"
      ],
      "execution_count": 0,
      "outputs": []
    },
    {
      "cell_type": "code",
      "metadata": {
        "id": "HjqQQP0pvZLA",
        "colab_type": "code",
        "colab": {}
      },
      "source": [
        "def get_model():\n",
        "  main_input = Input(shape=(input_dim,), name='main_input')\n",
        "  dense_1 = Dense(layer1_size, activation='relu')(main_input)\n",
        "  main_output = Dense(n_actions, activation=None, name='main_output')(dense_1)\n",
        "\n",
        "  model = Model(input=[main_input], output=[main_output])\n",
        "  model.compile(optimizer=Adam(lr=lr), loss='mean_squared_error')\n",
        "  \n",
        "  return model"
      ],
      "execution_count": 0,
      "outputs": []
    },
    {
      "cell_type": "code",
      "metadata": {
        "id": "0V5NIb1sDMxL",
        "colab_type": "code",
        "colab": {
          "base_uri": "https://localhost:8080/",
          "height": 71
        },
        "outputId": "478c056a-23f7-44a8-d8f3-7ecb9cbbede0"
      },
      "source": [
        "n_epsiodes = 100000\n",
        "layer1_size = 200\n",
        "input_dim = 6400\n",
        "lr = 0.005\n",
        "learn_step_counter = 0\n",
        "gamma=0.99\n",
        "epsilon=0.01\n",
        "lr=1e-3\n",
        "eps_dec=1e-2\n",
        "mem_size=100000\n",
        "batch_size=64\n",
        "eps_min=0.01\n",
        "replace=100\n",
        "n_actions=2\n",
        "action_space = [i for i in range(n_actions)]\n",
        "temp_buffer = []\n",
        "\n",
        "memory = ReplayBuffer(mem_size)\n",
        "q_eval = get_model()\n",
        "q_next = get_model()\n",
        "# q_eval = load_model('q_eval.h5')\n",
        "# q_next = load_model('q_next.h5')\n"
      ],
      "execution_count": 10,
      "outputs": [
        {
          "output_type": "stream",
          "text": [
            "/usr/local/lib/python3.6/dist-packages/ipykernel_launcher.py:6: UserWarning: Update your `Model` call to the Keras 2 API: `Model(inputs=[<tf.Tenso..., outputs=[<tf.Tenso...)`\n",
            "  \n"
          ],
          "name": "stderr"
        }
      ]
    },
    {
      "cell_type": "code",
      "metadata": {
        "id": "5Kt2ypmbtVNt",
        "colab_type": "code",
        "colab": {}
      },
      "source": [
        "def store_transition(state, action, reward, new_state, done):\n",
        "    global temp_buffer\n",
        "    temp_buffer.append((state, action, reward, new_state, done))\n",
        "    if done:\n",
        "        # perform discounted reward and store it in memory\n",
        "        states, actions, rewards, new_states, dones = zip(*temp_buffer)\n",
        "        d_rewards = discount_rewards(rewards, gamma)\n",
        "        memory.store_transition(list(zip(states, actions, d_rewards, new_states, dones)))\n",
        "        temp_buffer.clear()\n",
        "        \n",
        "def choose_action(observation):\n",
        "    if np.random.random() < epsilon:\n",
        "        action = np.random.choice(action_space)\n",
        "    else:\n",
        "        state = np.array([observation])\n",
        "        actions = q_eval.predict(state)\n",
        "        action = np.argmax(actions, axis=1)[0]\n",
        "\n",
        "    return action\n",
        "\n",
        "def learn():\n",
        "    global q_next,epsilon,learn_step_counter\n",
        "\n",
        "    if memory.size < batch_size:\n",
        "        return\n",
        "\n",
        "    if learn_step_counter % replace == 0:\n",
        "        q_next.set_weights(q_eval.get_weights())\n",
        "        \n",
        "    sample_transitions = memory.sample_buffer()\n",
        "    observations, actions, rewards, observations_, dones = zip(*sample_transitions)  \n",
        "    \n",
        "    observations = np.array(observations)\n",
        "    observations_ = np.array(observations_)  \n",
        "\n",
        "    q_target = q_eval.predict(observations)\n",
        "    q_pred = q_eval.predict(observations_)\n",
        "    new_actions = np.argmax(q_pred, axis=1)\n",
        "    for idx, terminal in enumerate(dones):\n",
        "      if terminal:\n",
        "        q_target[idx, actions[idx]] = rewards[idx]\n",
        "      else:\n",
        "        q_target[idx, actions[idx]] = rewards[idx] + gamma*q_pred[idx, new_actions[idx]]\n",
        "\n",
        "    q_eval.train_on_batch(observations, q_target)\n",
        "\n",
        "    epsilon = epsilon - eps_dec if epsilon > eps_min else eps_min\n",
        "\n",
        "    learn_step_counter += 1"
      ],
      "execution_count": 0,
      "outputs": []
    },
    {
      "cell_type": "code",
      "metadata": {
        "id": "wQuotrEqE5CT",
        "colab_type": "code",
        "colab": {}
      },
      "source": [
        "def save_model_func(model,file_name):\n",
        "  model.save(file_name)\n",
        "\n",
        "def load_model_func(file_name):\n",
        "  model = load_model(file_name)\n",
        "  return model"
      ],
      "execution_count": 0,
      "outputs": []
    },
    {
      "cell_type": "code",
      "metadata": {
        "id": "luzqgVCDtgfd",
        "colab_type": "code",
        "colab": {}
      },
      "source": [
        "# action 0 and 1 seems useless, as nothing happens to the racket.\n",
        "# action 2 & 4 makes the racket go up, and action 3 & 5 makes the racket go down\n",
        "\n",
        "env = gym.make('Pong-v0')\n",
        "n_games = 1000000\n",
        "x_axis = [x for x in range(n_games)]\n",
        "scores, eps_history = [], []\n",
        "\n",
        "for i in range(n_games):\n",
        "    # if i%500 == 0:\n",
        "    #   save_model_func(q_eval,'q_eval.h5')\n",
        "    #   save_model_func(q_next,'q_next.h5')\n",
        "\n",
        "    done = False\n",
        "    score = 0\n",
        "    observation = env.reset()\n",
        "    prev_input = None\n",
        "    prev_input_ = None\n",
        "    while not done:\n",
        "        cur_input = prepro(observation)\n",
        "        x = cur_input - prev_input if prev_input is not None else np.zeros(80 * 80)   # (6400,)  i.e., 6400 (80x80) 1D float vector\n",
        "        prev_input = cur_input\n",
        "\n",
        "        action = choose_action(x)\n",
        "        observation_, reward, done, info = env.step(action+2)\n",
        "        score += reward\n",
        "\n",
        "        cur_input_ = prepro(observation_)\n",
        "        x_ = cur_input_ - prev_input_ if prev_input_ is not None else np.zeros(80 * 80)\n",
        "        prev_input_ = cur_input_\n",
        "\n",
        "        store_transition(x, action, reward, x_, done)\n",
        "        observation = observation_\n",
        "        \n",
        "    learn() \n",
        "    eps_history.append(epsilon)\n",
        "    scores.append(score)\n",
        "    avg_score = np.mean(scores[-100:])\n",
        "    print('episode ', i, 'score %.1f' % score,\n",
        "            'average score %.1f' % avg_score,\n",
        "            'epsilon %.2f' % epsilon)\n",
        "\n",
        "# save_model_func(q_eval,'q_eval.h5')\n",
        "# save_model_func(q_next,'q_next.h5')\n",
        "\n",
        "plt.plot(x_axis, scores)\n",
        "plt.show()\n"
      ],
      "execution_count": 0,
      "outputs": []
    },
    {
      "cell_type": "code",
      "metadata": {
        "id": "ezgS4TT5uFY2",
        "colab_type": "code",
        "colab": {}
      },
      "source": [
        ""
      ],
      "execution_count": 0,
      "outputs": []
    }
  ]
}